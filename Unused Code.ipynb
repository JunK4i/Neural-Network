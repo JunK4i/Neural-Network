{
 "cells": [
  {
   "cell_type": "code",
   "execution_count": null,
   "id": "be9a4798",
   "metadata": {},
   "outputs": [],
   "source": [
    "test = merged_df.loc[100]\n",
    "test\n",
    "image = getImagePath(test['image_id'])\n",
    "xyxy = [test['x_1'], test['y_1'], test['width'], test['height']]\n",
    "xyxy\n",
    "\n",
    "import matplotlib.pyplot as plt\n",
    "import matplotlib.patches as patches\n",
    "from skimage import io\n",
    "\n",
    "# Replace 'path_to_your_image.jpg' with the actual path to your image file\n",
    "image_path = getImagePath(test['image_id'])\n",
    "image = io.imread(image_path)\n",
    "\n",
    "# Bounding box coordinates and dimensions\n",
    "bbox = xyxy\n",
    "\n",
    "# Create figure and axes\n",
    "fig, ax = plt.subplots()\n",
    "\n",
    "# Display the image\n",
    "ax.imshow(image)\n",
    "\n",
    "# Create a Rectangle patch\n",
    "rect = patches.Rectangle((bbox[0], bbox[1]), bbox[2], bbox[3], linewidth=1, edgecolor='r', facecolor='none')\n",
    "\n",
    "# Add the patch to the Axes\n",
    "ax.add_patch(rect)\n",
    "\n",
    "# Set the x and y axis limits to match the image size if needed\n",
    "ax.set_xlim(0, image.shape[1])\n",
    "ax.set_ylim(image.shape[0], 0)  # Y-axis is inverted for images\n",
    "\n",
    "# Show the plot with the bounding box\n",
    "plt.show()"
   ]
  }
 ],
 "metadata": {
  "kernelspec": {
   "display_name": "Python 3 (ipykernel)",
   "language": "python",
   "name": "python3"
  },
  "language_info": {
   "codemirror_mode": {
    "name": "ipython",
    "version": 3
   },
   "file_extension": ".py",
   "mimetype": "text/x-python",
   "name": "python",
   "nbconvert_exporter": "python",
   "pygments_lexer": "ipython3",
   "version": "3.10.13"
  }
 },
 "nbformat": 4,
 "nbformat_minor": 5
}
